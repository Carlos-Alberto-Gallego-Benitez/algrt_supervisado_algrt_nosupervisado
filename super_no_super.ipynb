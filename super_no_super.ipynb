{
 "cells": [
  {
   "cell_type": "markdown",
   "metadata": {},
   "source": [
    "Supervisado"
   ]
  },
  {
   "cell_type": "code",
   "execution_count": null,
   "metadata": {},
   "outputs": [],
   "source": [
    "from sklearn.tree import DecisionTreeClassifier\n",
    "import pandas as pd\n",
    "import matplotlib.pyplot as plt\n",
    "from sklearn.tree import plot_tree\n",
    "\n",
    "# Definir datos simples de frutas\n",
    "data = {\n",
    "    'Peso': [150, 170, 140, 130, 180, 160, 120],\n",
    "    'Tamaño': [7, 8, 6, 5, 9, 7, 4],\n",
    "    'Tipo': ['Manzana', 'Manzana', 'Pera', 'Pera', 'Manzana', 'Manzana', 'Pera']\n",
    "}\n",
    "\n",
    "# Crear un DataFrame con los datos\n",
    "df = pd.DataFrame(data)\n",
    "\n",
    "# Separar características (X) y etiquetas (y)\n",
    "X = df[['Peso', 'Tamaño']]\n",
    "y = df['Tipo']\n",
    "\n",
    "# Crear y entrenar el modelo de Árbol de Decisión\n",
    "arbol_decision = DecisionTreeClassifier()\n",
    "arbol_decision.fit(X, y)\n",
    "\n",
    "# Hacer una predicción para una nueva fruta\n",
    "nueva_fruta = [[155, 6]]  # Peso: 145, Tamaño: 6\n",
    "prediccion = arbol_decision.predict(nueva_fruta)\n",
    "\n",
    "print(f\"La nueva fruta es: {prediccion[0]}\")\n",
    "\n",
    "# Graficar el árbol de decisión\n",
    "plt.figure(figsize=(10, 6))\n",
    "plot_tree(arbol_decision, feature_names=['Peso', 'Tamaño'], class_names=['Manzana', 'Pera'], filled=True, rounded=True)\n",
    "plt.title('Árbol de Decisión para Clasificación de Frutas')\n",
    "plt.show()\n"
   ]
  },
  {
   "cell_type": "markdown",
   "metadata": {},
   "source": [
    "No Supervisado"
   ]
  },
  {
   "cell_type": "code",
   "execution_count": null,
   "metadata": {},
   "outputs": [],
   "source": [
    "import pandas as pd\n",
    "from sklearn.cluster import KMeans\n",
    "from sklearn.datasets import make_blobs\n",
    "import matplotlib.pyplot as plt\n",
    "\n",
    "# Generar datos de ejemplo\n",
    "X, _ = make_blobs(n_samples=300, centers=4, cluster_std=0.60, random_state=0)\n",
    "\n",
    "# Aplicar K-means con 4 clusters\n",
    "kmeans = KMeans(n_clusters=4)\n",
    "kmeans.fit(X)\n",
    "\n",
    "# Predicciones (a qué cluster pertenece cada punto)\n",
    "y_kmeans = kmeans.predict(X)\n",
    "\n",
    "# Crear un DataFrame con los datos originales y los clusters predichos\n",
    "df = pd.DataFrame(X, columns=['Feature_1', 'Feature_2'])  # X tiene dos características (dos dimensiones)\n",
    "df['Cluster'] = y_kmeans  # Agregar los clusters asignados a cada punto\n",
    "\n",
    "# Ver los centroides calculados por el algoritmo\n",
    "centroides = kmeans.cluster_centers_\n",
    "df_centroides = pd.DataFrame(centroides, columns=['Feature_1', 'Feature_2'])\n",
    "print(\"Centroides de los clusters:\")\n",
    "print(df_centroides)\n",
    "\n",
    "# Calcular la distancia de cada punto a su centroide\n",
    "df['Distancia_al_centroide'] = kmeans.transform(X).min(axis=1)\n",
    "\n",
    "# Mostrar las primeras filas del DataFrame con la distancia al centroide\n",
    "print(\"DataFrame con distancias al centroide:\")\n",
    "print(df)\n",
    "\n",
    "# Visualizar los clusters\n",
    "plt.scatter(X[:, 0], X[:, 1], c=y_kmeans, s=50, cmap='viridis')\n",
    "centros = kmeans.cluster_centers_\n",
    "plt.scatter(centros[:, 0], centros[:, 1], c='red', s=200, alpha=0.75)\n",
    "plt.title(\"Agrupamiento con K-means\")\n",
    "plt.show()"
   ]
  }
 ],
 "metadata": {
  "kernelspec": {
   "display_name": "Python 3",
   "language": "python",
   "name": "python3"
  },
  "language_info": {
   "codemirror_mode": {
    "name": "ipython",
    "version": 3
   },
   "file_extension": ".py",
   "mimetype": "text/x-python",
   "name": "python",
   "nbconvert_exporter": "python",
   "pygments_lexer": "ipython3",
   "version": "3.11.0"
  }
 },
 "nbformat": 4,
 "nbformat_minor": 2
}
